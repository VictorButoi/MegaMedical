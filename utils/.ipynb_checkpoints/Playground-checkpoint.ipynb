{
 "cells": [
  {
   "cell_type": "code",
   "execution_count": 4,
   "id": "c32e3bbd",
   "metadata": {},
   "outputs": [],
   "source": [
    "import os\n",
    "import shutil \n",
    "import megamedical\n",
    "import importlib\n",
    "import src.proc_funcs as pf\n",
    "import utils\n",
    "\n",
    "root = \"/home/vib9/src/MegaMedical/megamedical\"\n",
    "#registry = utils.registry.dataset_registry"
   ]
  },
  {
   "cell_type": "code",
   "execution_count": 5,
   "id": "ed3e7232",
   "metadata": {},
   "outputs": [
    {
     "name": "stdout",
     "output_type": "stream",
     "text": [
      "['WORD', 'ACDC', 'AMOS', 'BBBC', 'BRATS', 'BUS', 'BrainDevelopment', 'BrainMetShare', 'CHAOS', 'COCA', 'CannabisT1', 'CheXplanation', 'CoNSeP', 'DDR', 'DRIVE', 'EOphtha', 'EchoNet', 'FLARE', 'FeTA', 'Feto_Plac', 'I2CVB', 'IDRID', 'ISBI', 'ISBI_EM', 'ISLES', 'KiTS', 'LGGFlair', 'LITS', 'LUNA', 'MNMS', 'MSD', 'OASIS', 'OCTA500', 'PROMISE12', 'PanDental', 'PanNuke', 'ROSE', 'SCD', 'SMIR', 'STARE', 'SegTHOR', 'SpineWeb', 'Synapse_Abdomen', 'T1mix', 'TUCC', 'VerSe', 'WBC', 'WMH', '__init__.py', '.ipynb_checkpoints', 'TeethSeg', '__pycache__']\n"
     ]
    }
   ],
   "source": [
    "print(os.listdir(root))"
   ]
  },
  {
   "cell_type": "code",
   "execution_count": 9,
   "id": "7c32db51",
   "metadata": {},
   "outputs": [
    {
     "name": "stdout",
     "output_type": "stream",
     "text": [
      "/home/vib9/src/MegaMedical/megamedical/BBBC/original_unzipped\n",
      "/home/vib9/src/MegaMedical/megamedical/BRATS/original_unzipped\n",
      "/home/vib9/src/MegaMedical/megamedical/BUS/original_unzipped\n",
      "/home/vib9/src/MegaMedical/megamedical/BrainDevelopment/original_unzipped\n",
      "/home/vib9/src/MegaMedical/megamedical/BrainMetShare/original_unzipped\n",
      "/home/vib9/src/MegaMedical/megamedical/CHAOS/original_unzipped\n",
      "/home/vib9/src/MegaMedical/megamedical/COCA/original_unzipped\n",
      "/home/vib9/src/MegaMedical/megamedical/CannabisT1/original_unzipped\n",
      "/home/vib9/src/MegaMedical/megamedical/CheXplanation/original_unzipped\n",
      "/home/vib9/src/MegaMedical/megamedical/CoNSeP/original_unzipped\n",
      "/home/vib9/src/MegaMedical/megamedical/DDR/original_unzipped\n",
      "/home/vib9/src/MegaMedical/megamedical/DRIVE/original_unzipped\n",
      "/home/vib9/src/MegaMedical/megamedical/EOphtha/original_unzipped\n",
      "/home/vib9/src/MegaMedical/megamedical/EchoNet/original_unzipped\n",
      "/home/vib9/src/MegaMedical/megamedical/FLARE/original_unzipped\n",
      "/home/vib9/src/MegaMedical/megamedical/FeTA/original_unzipped\n",
      "/home/vib9/src/MegaMedical/megamedical/Feto_Plac/original_unzipped\n",
      "/home/vib9/src/MegaMedical/megamedical/I2CVB/original_unzipped\n",
      "/home/vib9/src/MegaMedical/megamedical/IDRID/original_unzipped\n",
      "/home/vib9/src/MegaMedical/megamedical/ISBI/original_unzipped\n",
      "/home/vib9/src/MegaMedical/megamedical/ISBI_EM/original_unzipped\n",
      "/home/vib9/src/MegaMedical/megamedical/ISLES/original_unzipped\n",
      "/home/vib9/src/MegaMedical/megamedical/LGGFlair/original_unzipped\n",
      "/home/vib9/src/MegaMedical/megamedical/LITS/original_unzipped\n",
      "/home/vib9/src/MegaMedical/megamedical/LUNA/original_unzipped\n",
      "/home/vib9/src/MegaMedical/megamedical/MNMS/original_unzipped\n",
      "/home/vib9/src/MegaMedical/megamedical/MSD/original_unzipped\n",
      "/home/vib9/src/MegaMedical/megamedical/OASIS/original_unzipped\n",
      "/home/vib9/src/MegaMedical/megamedical/OCTA500/original_unzipped\n",
      "/home/vib9/src/MegaMedical/megamedical/PROMISE12/original_unzipped\n",
      "/home/vib9/src/MegaMedical/megamedical/PanDental/original_unzipped\n",
      "/home/vib9/src/MegaMedical/megamedical/PanNuke/original_unzipped\n",
      "/home/vib9/src/MegaMedical/megamedical/ROSE/original_unzipped\n",
      "/home/vib9/src/MegaMedical/megamedical/SCD/original_unzipped\n",
      "/home/vib9/src/MegaMedical/megamedical/SMIR/original_unzipped\n",
      "/home/vib9/src/MegaMedical/megamedical/STARE/original_unzipped\n",
      "/home/vib9/src/MegaMedical/megamedical/SegTHOR/original_unzipped\n",
      "/home/vib9/src/MegaMedical/megamedical/SpineWeb/original_unzipped\n",
      "/home/vib9/src/MegaMedical/megamedical/Synapse_Abdomen/original_unzipped\n",
      "/home/vib9/src/MegaMedical/megamedical/T1mix/original_unzipped\n",
      "/home/vib9/src/MegaMedical/megamedical/TUCC/original_unzipped\n",
      "/home/vib9/src/MegaMedical/megamedical/VerSe/original_unzipped\n",
      "/home/vib9/src/MegaMedical/megamedical/WBC/original_unzipped\n",
      "/home/vib9/src/MegaMedical/megamedical/WMH/original_unzipped\n",
      "/home/vib9/src/MegaMedical/megamedical/TeethSeg/original_unzipped\n"
     ]
    }
   ],
   "source": [
    "for dataset in os.listdir(root):\n",
    "    data_dir = os.path.join(root, dataset, \"processed\", \"original_unzipped\")\n",
    "    new_dir = os.path.join(root, dataset, \"original_unzipped\")\n",
    "    if os.path.isdir(data_dir):\n",
    "        shutil.move(data_dir, new_dir)"
   ]
  },
  {
   "cell_type": "code",
   "execution_count": null,
   "id": "a3ded314",
   "metadata": {},
   "outputs": [],
   "source": [
    "#obj = getattr(importlib.import_module(\"megamedical.ACDC.process_assets\"), \"ACDC\")()"
   ]
  },
  {
   "cell_type": "code",
   "execution_count": null,
   "id": "5aabfaf0",
   "metadata": {},
   "outputs": [],
   "source": [
    "#pf.show_processing(obj, subdset=\"all\")"
   ]
  },
  {
   "cell_type": "code",
   "execution_count": null,
   "id": "ecb15ee7",
   "metadata": {},
   "outputs": [],
   "source": [
    "# options include megamedical_v3.1, midslice_v3.1, v3.2-midslice\n",
    "#pf.show_dataset(obj, subdset=\"all\", version=\"megamedical_v3.1\")"
   ]
  }
 ],
 "metadata": {
  "kernelspec": {
   "display_name": "UVS",
   "language": "python",
   "name": "uvs"
  },
  "language_info": {
   "codemirror_mode": {
    "name": "ipython",
    "version": 3
   },
   "file_extension": ".py",
   "mimetype": "text/x-python",
   "name": "python",
   "nbconvert_exporter": "python",
   "pygments_lexer": "ipython3",
   "version": "3.9.12"
  }
 },
 "nbformat": 4,
 "nbformat_minor": 5
}
