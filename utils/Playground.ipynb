{
 "cells": [
  {
   "cell_type": "code",
   "execution_count": 1,
   "id": "c32e3bbd",
   "metadata": {},
   "outputs": [],
   "source": [
    "import os\n",
    "import shutil \n",
    "\n",
    "root = \"/home/vib9/src/MegaMedical/datasets\""
   ]
  },
  {
   "cell_type": "code",
   "execution_count": 2,
   "id": "8e202c9e",
   "metadata": {},
   "outputs": [
    {
     "name": "stdout",
     "output_type": "stream",
     "text": [
      "ERROR: WORD\n",
      "ERROR: 3DTeethSeg\n",
      "ERROR: ACDC\n",
      "AMOS\n",
      "BBBC\n",
      "BRATS\n",
      "BUS\n",
      "BrainDevelopment\n",
      "BrainMetShare\n",
      "CHAOS\n",
      "ERROR: COCA\n",
      "CannabisT1\n",
      "CheXplanation\n",
      "CoNSeP\n",
      "DDR\n",
      "DRIVE\n",
      "EOphtha\n",
      "ERROR: EchoNet\n",
      "FLARE\n",
      "FeTA\n",
      "Feto_Plac\n",
      "I2CVB\n",
      "IDRID\n",
      "ISBI\n",
      "ISBI_EM\n",
      "ISLES\n",
      "KiTS\n",
      "LGGFlair\n",
      "LITS\n",
      "LUNA\n",
      "MNMS\n",
      "MSD\n",
      "OASIS\n",
      "OCTA500\n",
      "PROMISE12\n",
      "PanDental\n",
      "ERROR: PanNuke\n",
      "ROSE\n",
      "SCD\n",
      "SMIR\n",
      "STARE\n",
      "SegTHOR\n",
      "SpineWeb\n",
      "Synapse_Abdomen\n",
      "T1mix\n",
      "TUCC\n",
      "VerSe\n",
      "WBC\n",
      "WMH\n"
     ]
    }
   ],
   "source": [
    "datasets = os.listdir(root)\n",
    "for dataset in datasets:\n",
    "    try:\n",
    "        old_processed_dir = os.path.join(root, dataset, \"processed\", \"process_assets\")\n",
    "        new_processed_dir = os.path.join(root, dataset, \"process_assets\")\n",
    "        shutil.move(old_processed_dir, new_processed_dir)\n",
    "        print(dataset)\n",
    "    except Exception as e:\n",
    "        print(\"ERROR:\", dataset)"
   ]
  }
 ],
 "metadata": {
  "kernelspec": {
   "display_name": "UVS",
   "language": "python",
   "name": "uvs"
  },
  "language_info": {
   "codemirror_mode": {
    "name": "ipython",
    "version": 3
   },
   "file_extension": ".py",
   "mimetype": "text/x-python",
   "name": "python",
   "nbconvert_exporter": "python",
   "pygments_lexer": "ipython3",
   "version": "3.9.12"
  }
 },
 "nbformat": 4,
 "nbformat_minor": 5
}
