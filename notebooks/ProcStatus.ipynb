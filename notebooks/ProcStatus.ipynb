{
 "cells": [
  {
   "cell_type": "code",
   "execution_count": null,
   "id": "90a3868f",
   "metadata": {},
   "outputs": [],
   "source": [
    "import megamedical.src.proc_funcs as pf\n",
    "import pandas as pd"
   ]
  },
  {
   "cell_type": "code",
   "execution_count": null,
   "id": "44b95ee3",
   "metadata": {},
   "outputs": [],
   "source": [
    "%load_ext autoreload\n",
    "%autoreload 2"
   ]
  },
  {
   "cell_type": "code",
   "execution_count": null,
   "id": "06102762",
   "metadata": {
    "scrolled": false
   },
   "outputs": [],
   "source": [
    "# pd.set_option('display.max_rows',150)\n",
    "# status = pf.get_processing_status(datasets=\"all\")\n",
    "# status.sort_values([\"Pop Stats Known\"], ignore_index=True)\n",
    "# status.head(150)"
   ]
  },
  {
   "cell_type": "code",
   "execution_count": null,
   "id": "90917310",
   "metadata": {
    "scrolled": false
   },
   "outputs": [],
   "source": [
    "status = pf.get_processing_status(datasets=\"all\")\n",
    "not_processed = status[(status[\"% 64 Proc\"] == 100.0) & (status[\"% 128 Proc\"] == 100.0) & (status[\"% 256 Proc\"] == 100.0)].index\n",
    "to_process_datasets = status.drop(not_processed , inplace=False)\n",
    "to_process_datasets.reset_index(drop=True, inplace=True)\n",
    "status.head(100)"
   ]
  }
 ],
 "metadata": {
  "kernelspec": {
   "display_name": "UVS",
   "language": "python",
   "name": "uvs"
  },
  "language_info": {
   "codemirror_mode": {
    "name": "ipython",
    "version": 3
   },
   "file_extension": ".py",
   "mimetype": "text/x-python",
   "name": "python",
   "nbconvert_exporter": "python",
   "pygments_lexer": "ipython3",
   "version": "3.9.12"
  }
 },
 "nbformat": 4,
 "nbformat_minor": 5
}
