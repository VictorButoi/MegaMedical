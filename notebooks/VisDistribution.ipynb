{
 "cells": [
  {
   "cell_type": "code",
   "execution_count": null,
   "id": "a63d7c5f",
   "metadata": {},
   "outputs": [],
   "source": [
    "import megamedical.src.data_analysis as da\n",
    "import shutil\n",
    "import os "
   ]
  },
  {
   "cell_type": "code",
   "execution_count": null,
   "id": "8d643488",
   "metadata": {
    "scrolled": false
   },
   "outputs": [],
   "source": [
    "da.vis_label_hists(datasets=\"all\",\n",
    "                   slice_version=True)"
   ]
  }
 ],
 "metadata": {
  "kernelspec": {
   "display_name": "UVS",
   "language": "python",
   "name": "uvs"
  },
  "language_info": {
   "codemirror_mode": {
    "name": "ipython",
    "version": 3
   },
   "file_extension": ".py",
   "mimetype": "text/x-python",
   "name": "python",
   "nbconvert_exporter": "python",
   "pygments_lexer": "ipython3",
   "version": "3.9.12"
  }
 },
 "nbformat": 4,
 "nbformat_minor": 5
}
