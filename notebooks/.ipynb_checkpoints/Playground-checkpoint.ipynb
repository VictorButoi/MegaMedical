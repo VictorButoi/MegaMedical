{
 "cells": [
  {
   "cell_type": "code",
   "execution_count": 1,
   "id": "c32e3bbd",
   "metadata": {},
   "outputs": [],
   "source": [
    "import megamedical\n",
    "import megamedical.src.proc_funcs as pf\n",
    "import megamedical.utils as utils"
   ]
  },
  {
   "cell_type": "code",
   "execution_count": 2,
   "id": "a8616bbd",
   "metadata": {
    "scrolled": false
   },
   "outputs": [
    {
     "name": "stderr",
     "output_type": "stream",
     "text": [
      "sacct: error: slurm_persist_conn_open_without_init: failed to open persistent connection to host:slurmdbd:6819: Connection timed out\n",
      "sacct: error: Sending PersistInit msg: Connection timed out\n",
      "sacct: error: Problem talking to the database: Connection timed out\n",
      "submitit WARNING (2022-08-17 16:46:08,300) - Call #1 - Bypassing sacct error Command '['sacct', '-o', 'JobID,State,NodeList', '--parsable2', '-j', '802162']' returned non-zero exit status 1., status may be inaccurate.\n"
     ]
    },
    {
     "name": "stdout",
     "output_type": "stream",
     "text": [
      "submitit WARNING (2022-08-17 16:46:08,300) - Call #1 - Bypassing sacct error Command '['sacct', '-o', 'JobID,State,NodeList', '--parsable2', '-j', '802162']' returned non-zero exit status 1., status may be inaccurate.\n"
     ]
    },
    {
     "data": {
      "text/plain": [
       "[SlurmJob<job_id=802162, task_id=0, state=\"UNKNOWN\">]"
      ]
     },
     "execution_count": 2,
     "metadata": {},
     "output_type": "execute_result"
    }
   ],
   "source": [
    "# processing bulwark. datasets can either be a string, or a list\n",
    "# of datasets. If datasets is a list, then you can't visualize.\n",
    "# if slurm == true, then no visualization is allowed.\n",
    "pf.process_dataset(datasets=[\"ACDC\"],\n",
    "                   version='4.0',\n",
    "                   save_slices=True,\n",
    "                   slurm=False,\n",
    "                   visualize=True,\n",
    "                   redo_processed=True,\n",
    "                   subsets=[\"megamedical\"])"
   ]
  }
 ],
 "metadata": {
  "kernelspec": {
   "display_name": "UVS",
   "language": "python",
   "name": "uvs"
  },
  "language_info": {
   "codemirror_mode": {
    "name": "ipython",
    "version": 3
   },
   "file_extension": ".py",
   "mimetype": "text/x-python",
   "name": "python",
   "nbconvert_exporter": "python",
   "pygments_lexer": "ipython3",
   "version": "3.9.12"
  }
 },
 "nbformat": 4,
 "nbformat_minor": 5
}
