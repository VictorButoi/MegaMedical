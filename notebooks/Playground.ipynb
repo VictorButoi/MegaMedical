{
 "cells": [
  {
   "cell_type": "code",
   "execution_count": 1,
   "id": "c32e3bbd",
   "metadata": {},
   "outputs": [],
   "source": [
    "import megamedical\n",
    "import megamedical.src.proc_funcs as pf\n",
    "import megamedical.utils as utils"
   ]
  },
  {
   "cell_type": "code",
   "execution_count": 2,
   "id": "a8616bbd",
   "metadata": {
    "scrolled": false
   },
   "outputs": [],
   "source": [
    "# processing bulwark. datasets can either be a string, or a list\n",
    "# of datasets. If datasets is a list, then you can't visualize.\n",
    "# if slurm == true, then no visualization is allowed.\n",
    "#pf.process_dataset(datasets=[\"WBC\"],\n",
    "#                   subdsets=None,\n",
    "#                   save_slices=False,\n",
    "#                   slurm=False,\n",
    "#                   visualize=True)"
   ]
  },
  {
   "cell_type": "code",
   "execution_count": 3,
   "id": "c0871eca",
   "metadata": {},
   "outputs": [
    {
     "data": {
      "application/vnd.jupyter.widget-view+json": {
       "model_id": "aeeca55990e94254b521a64199821639",
       "version_major": 2,
       "version_minor": 0
      },
      "text/plain": [
       "Processing: BBBC003:   0%|          | 0/15 [00:00<?, ?it/s]"
      ]
     },
     "metadata": {},
     "output_type": "display_data"
    },
    {
     "name": "stdout",
     "output_type": "stream",
     "text": [
      "appending for: 7_19_M1E18.tif\n",
      "appending for: 7_19_M1E3.tif\n",
      "appending for: 7_19_M1E4.tif\n",
      "appending for: 7_19_M1E6.tif\n",
      "appending for: 7_19_M2E10.tif\n",
      "appending for: 7_19_M2E13.tif\n",
      "appending for: 7_19_M2E15.tif\n",
      "appending for: 7_19_M2E2.tif\n",
      "appending for: 7_19_M2E4.tif\n",
      "appending for: 7_19_M2E5.tif\n",
      "appending for: 7_19_M2E6.tif\n",
      "appending for: 7_19_M2E8.tif\n",
      "appending for: 7_20_M3M1.tif\n",
      "appending for: 7_20_M3M10.tif\n",
      "appending for: 7_20_M3M9.tif\n"
     ]
    },
    {
     "data": {
      "image/png": "[encoded data removed]",
      "text/plain": [
       "<Figure size 432x288 with 1 Axes>"
      ]
     },
     "metadata": {
      "needs_background": "light"
     },
     "output_type": "display_data"
    }
   ],
   "source": [
    "pf.get_label_dist(datasets=[\"BBBC\"],\n",
    "                subdsets=None,\n",
    "                save=False,\n",
    "                slurm=False, \n",
    "                visualize=True)"
   ]
  }
 ],
 "metadata": {
  "kernelspec": {
   "display_name": "UVS",
   "language": "python",
   "name": "uvs"
  },
  "language_info": {
   "codemirror_mode": {
    "name": "ipython",
    "version": 3
   },
   "file_extension": ".py",
   "mimetype": "text/x-python",
   "name": "python",
   "nbconvert_exporter": "python",
   "pygments_lexer": "ipython3",
   "version": "3.9.12"
  }
 },
 "nbformat": 4,
 "nbformat_minor": 5
}
