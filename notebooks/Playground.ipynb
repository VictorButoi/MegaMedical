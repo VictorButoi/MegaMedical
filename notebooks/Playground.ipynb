{
 "cells": [
  {
   "cell_type": "code",
   "execution_count": 1,
   "id": "c32e3bbd",
   "metadata": {},
   "outputs": [],
   "source": [
    "import megamedical\n",
    "import megamedical.src.proc_funcs as pf\n",
    "import megamedical.utils as utils"
   ]
  },
  {
   "cell_type": "code",
   "execution_count": null,
   "id": "a8616bbd",
   "metadata": {
    "scrolled": false
   },
   "outputs": [
    {
     "name": "stderr",
     "output_type": "stream",
     "text": [
      "Processing: CT:  55%|███████████████████████████████████████████▍                                   | 11/20 [05:26<04:50, 32.27s/image]"
     ]
    }
   ],
   "source": [
    "# processing bulwark. datasets can either be a string, or a list\n",
    "# of datasets. If datasets is a list, then you can't visualize.\n",
    "# if slurm == true, then no visualization is allowed.\n",
    "pf.process_dataset(datasets=[\"CHAOS\"],\n",
    "                   version='4.0',\n",
    "                   save_slices=True,\n",
    "                   slurm=False,\n",
    "                   visualize=False,\n",
    "                   redo_processed=True,\n",
    "                   subsets=[\"megamedical\"])"
   ]
  }
 ],
 "metadata": {
  "kernelspec": {
   "display_name": "UVS",
   "language": "python",
   "name": "uvs"
  },
  "language_info": {
   "codemirror_mode": {
    "name": "ipython",
    "version": 3
   },
   "file_extension": ".py",
   "mimetype": "text/x-python",
   "name": "python",
   "nbconvert_exporter": "python",
   "pygments_lexer": "ipython3",
   "version": "3.9.12"
  }
 },
 "nbformat": 4,
 "nbformat_minor": 5
}
