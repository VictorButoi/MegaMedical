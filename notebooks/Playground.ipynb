{
 "cells": [
  {
   "cell_type": "code",
   "execution_count": null,
   "id": "c32e3bbd",
   "metadata": {},
   "outputs": [],
   "source": [
    "import os\n",
    "import shutil \n",
    "\n",
    "import megamedical\n",
    "import megamedical.src.proc_funcs as pf\n",
    "import megamedical.utils as utils"
   ]
  },
  {
   "cell_type": "code",
   "execution_count": null,
   "id": "a3ded314",
   "metadata": {},
   "outputs": [],
   "source": [
    "# Done list\n",
    "obj = utils.build_dataset(\"BUS\")"
   ]
  },
  {
   "cell_type": "code",
   "execution_count": null,
   "id": "5aabfaf0",
   "metadata": {},
   "outputs": [],
   "source": [
    "# visualize what processing looks like but don't save\n",
    "#pf.show_processing(obj, subdset=\"all\")"
   ]
  },
  {
   "cell_type": "code",
   "execution_count": null,
   "id": "ecb15ee7",
   "metadata": {
    "scrolled": false
   },
   "outputs": [],
   "source": [
    "# options include megamedical_v3.1, midslice_v3.1, v3.2-midslice\n",
    "#pf.show_dataset(obj, \n",
    "#                version=\"megamedical_v3.1\",\n",
    "#                subjs_to_vis=10)"
   ]
  },
  {
   "cell_type": "code",
   "execution_count": null,
   "id": "a8616bbd",
   "metadata": {},
   "outputs": [],
   "source": [
    "# processing bulwark. datasets can either be a string, or a list\n",
    "# of datasets. If datasets is a list, then you can't visualize.\n",
    "# if slurm == true, then no visualization is allowed.\n",
    "pf.process_dataset(datasets=[\"ACDC\"],\n",
    "                   version='megamedical_v4.0',\n",
    "                   slurm=False,\n",
    "                   visualize=True,\n",
    "                   redo_processed=True)"
   ]
  }
 ],
 "metadata": {
  "kernelspec": {
   "display_name": "UVS",
   "language": "python",
   "name": "uvs"
  },
  "language_info": {
   "codemirror_mode": {
    "name": "ipython",
    "version": 3
   },
   "file_extension": ".py",
   "mimetype": "text/x-python",
   "name": "python",
   "nbconvert_exporter": "python",
   "pygments_lexer": "ipython3",
   "version": "3.9.12"
  }
 },
 "nbformat": 4,
 "nbformat_minor": 5
}
