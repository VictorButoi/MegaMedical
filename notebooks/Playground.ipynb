{
 "cells": [
  {
   "cell_type": "code",
   "execution_count": 1,
   "id": "c32e3bbd",
   "metadata": {},
   "outputs": [],
   "source": [
    "import os\n",
    "import shutil \n",
    "\n",
    "import megamedical\n",
    "import megamedical.src.proc_funcs as pf\n",
    "import megamedical.utils as utils"
   ]
  },
  {
   "cell_type": "code",
   "execution_count": 2,
   "id": "a3ded314",
   "metadata": {},
   "outputs": [],
   "source": [
    "obj = utils.build_dataset(\"ACDC\")"
   ]
  },
  {
   "cell_type": "code",
   "execution_count": 3,
   "id": "5aabfaf0",
   "metadata": {},
   "outputs": [
    {
     "ename": "NameError",
     "evalue": "name 'preprocess_scripts' is not defined",
     "output_type": "error",
     "traceback": [
      "\u001b[0;31m---------------------------------------------------------------------------\u001b[0m",
      "\u001b[0;31mNameError\u001b[0m                                 Traceback (most recent call last)",
      "Input \u001b[0;32mIn [3]\u001b[0m, in \u001b[0;36m<cell line: 1>\u001b[0;34m()\u001b[0m\n\u001b[0;32m----> 1\u001b[0m \u001b[43mpf\u001b[49m\u001b[38;5;241;43m.\u001b[39;49m\u001b[43mshow_processing\u001b[49m\u001b[43m(\u001b[49m\u001b[43mobj\u001b[49m\u001b[43m,\u001b[49m\u001b[43m \u001b[49m\u001b[43msubdset\u001b[49m\u001b[38;5;241;43m=\u001b[39;49m\u001b[38;5;124;43m\"\u001b[39;49m\u001b[38;5;124;43mall\u001b[39;49m\u001b[38;5;124;43m\"\u001b[39;49m\u001b[43m)\u001b[49m\n",
      "File \u001b[0;32m~/src/MegaMedical/megamedical/src/proc_funcs.py:13\u001b[0m, in \u001b[0;36mshow_processing\u001b[0;34m(dataset_object, subdset, show_hists)\u001b[0m\n\u001b[1;32m     11\u001b[0m     dset_names \u001b[38;5;241m=\u001b[39m [subdset]\n\u001b[1;32m     12\u001b[0m \u001b[38;5;28;01mfor\u001b[39;00m sdset \u001b[38;5;129;01min\u001b[39;00m dset_names:\n\u001b[0;32m---> 13\u001b[0m     \u001b[43mdataset_object\u001b[49m\u001b[38;5;241;43m.\u001b[39;49m\u001b[43mproc_func\u001b[49m\u001b[43m(\u001b[49m\u001b[43msdset\u001b[49m\u001b[43m,\u001b[49m\n\u001b[1;32m     14\u001b[0m \u001b[43m                              \u001b[49m\u001b[43msave_slices\u001b[49m\u001b[38;5;241;43m=\u001b[39;49m\u001b[38;5;28;43;01mFalse\u001b[39;49;00m\u001b[43m,\u001b[49m\u001b[43m \u001b[49m\n\u001b[1;32m     15\u001b[0m \u001b[43m                              \u001b[49m\u001b[43mshow_hists\u001b[49m\u001b[38;5;241;43m=\u001b[39;49m\u001b[43mshow_hists\u001b[49m\u001b[43m,\u001b[49m\n\u001b[1;32m     16\u001b[0m \u001b[43m                              \u001b[49m\u001b[43mshow_imgs\u001b[49m\u001b[38;5;241;43m=\u001b[39;49m\u001b[38;5;28;43;01mTrue\u001b[39;49;00m\u001b[43m,\u001b[49m\n\u001b[1;32m     17\u001b[0m \u001b[43m                              \u001b[49m\u001b[43mredo_processed\u001b[49m\u001b[38;5;241;43m=\u001b[39;49m\u001b[38;5;28;43;01mTrue\u001b[39;49;00m\u001b[43m)\u001b[49m\n",
      "File \u001b[0;32m~/src/MegaMedical/megamedical/datasets/ACDC/process_assets/process.py:55\u001b[0m, in \u001b[0;36mACDC.proc_func\u001b[0;34m(self, dset_name, save_slices, show_hists, show_imgs, redo_processed)\u001b[0m\n\u001b[1;32m     47\u001b[0m \u001b[38;5;28;01mdef\u001b[39;00m \u001b[38;5;21mproc_func\u001b[39m(\u001b[38;5;28mself\u001b[39m,\n\u001b[1;32m     48\u001b[0m               dset_name,\n\u001b[1;32m     49\u001b[0m               save_slices\u001b[38;5;241m=\u001b[39m\u001b[38;5;28;01mFalse\u001b[39;00m, \n\u001b[1;32m     50\u001b[0m               show_hists\u001b[38;5;241m=\u001b[39m\u001b[38;5;28;01mFalse\u001b[39;00m,\n\u001b[1;32m     51\u001b[0m               show_imgs\u001b[38;5;241m=\u001b[39m\u001b[38;5;28;01mFalse\u001b[39;00m,\n\u001b[1;32m     52\u001b[0m               redo_processed\u001b[38;5;241m=\u001b[39m\u001b[38;5;28;01mTrue\u001b[39;00m):\n\u001b[1;32m     53\u001b[0m     \u001b[38;5;28;01massert\u001b[39;00m dset_name \u001b[38;5;129;01min\u001b[39;00m \u001b[38;5;28mself\u001b[39m\u001b[38;5;241m.\u001b[39mdset_info\u001b[38;5;241m.\u001b[39mkeys(), \u001b[38;5;124m\"\u001b[39m\u001b[38;5;124mSub-dataset must be in info dictionary.\u001b[39m\u001b[38;5;124m\"\u001b[39m\n\u001b[0;32m---> 55\u001b[0m     processed_dir \u001b[38;5;241m=\u001b[39m \u001b[43mpreprocess_scripts\u001b[49m\u001b[38;5;241m.\u001b[39mmake_processed_dir(dset_name, \u001b[38;5;28mself\u001b[39m\u001b[38;5;241m.\u001b[39mdset_info[dset_name], save_slices)\n\u001b[1;32m     57\u001b[0m     image_list \u001b[38;5;241m=\u001b[39m os\u001b[38;5;241m.\u001b[39mlistdir(\u001b[38;5;28mself\u001b[39m\u001b[38;5;241m.\u001b[39mdset_info[dset_name][\u001b[38;5;124m\"\u001b[39m\u001b[38;5;124mimage_root_dir\u001b[39m\u001b[38;5;124m\"\u001b[39m])\n\u001b[1;32m     58\u001b[0m     \u001b[38;5;28;01mwith\u001b[39;00m tqdm(total\u001b[38;5;241m=\u001b[39m\u001b[38;5;28mlen\u001b[39m(image_list), desc\u001b[38;5;241m=\u001b[39m\u001b[38;5;124mf\u001b[39m\u001b[38;5;124m'\u001b[39m\u001b[38;5;124mProcessing: \u001b[39m\u001b[38;5;132;01m{\u001b[39;00mdset_name\u001b[38;5;132;01m}\u001b[39;00m\u001b[38;5;124m'\u001b[39m, unit\u001b[38;5;241m=\u001b[39m\u001b[38;5;124m'\u001b[39m\u001b[38;5;124mimage\u001b[39m\u001b[38;5;124m'\u001b[39m) \u001b[38;5;28;01mas\u001b[39;00m pbar:\n",
      "\u001b[0;31mNameError\u001b[0m: name 'preprocess_scripts' is not defined"
     ]
    }
   ],
   "source": [
    "pf.show_processing(obj, subdset=\"all\")"
   ]
  },
  {
   "cell_type": "code",
   "execution_count": null,
   "id": "ecb15ee7",
   "metadata": {},
   "outputs": [],
   "source": [
    "# options include megamedical_v3.1, midslice_v3.1, v3.2-midslice\n",
    "pf.show_dataset(obj, subdset=\"all\", version=\"megamedical_v3.1\")"
   ]
  }
 ],
 "metadata": {
  "kernelspec": {
   "display_name": "UVS",
   "language": "python",
   "name": "uvs"
  },
  "language_info": {
   "codemirror_mode": {
    "name": "ipython",
    "version": 3
   },
   "file_extension": ".py",
   "mimetype": "text/x-python",
   "name": "python",
   "nbconvert_exporter": "python",
   "pygments_lexer": "ipython3",
   "version": "3.9.12"
  }
 },
 "nbformat": 4,
 "nbformat_minor": 5
}
