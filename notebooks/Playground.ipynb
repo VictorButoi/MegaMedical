{
 "cells": [
  {
   "cell_type": "code",
   "execution_count": 1,
   "id": "c32e3bbd",
   "metadata": {},
   "outputs": [],
   "source": [
    "import os\n",
    "import shutil \n",
    "\n",
    "import megamedical\n",
    "import megamedical.src.proc_funcs as pf\n",
    "import megamedical.utils as utils"
   ]
  },
  {
   "cell_type": "code",
   "execution_count": 2,
   "id": "a3ded314",
   "metadata": {},
   "outputs": [],
   "source": [
    "obj = utils.build_dataset(\"ACDC\")"
   ]
  },
  {
   "cell_type": "code",
   "execution_count": 3,
   "id": "5aabfaf0",
   "metadata": {},
   "outputs": [
    {
     "ename": "TypeError",
     "evalue": "proc_func() missing 1 required positional argument: 'processed_dir'",
     "output_type": "error",
     "traceback": [
      "\u001b[0;31m---------------------------------------------------------------------------\u001b[0m",
      "\u001b[0;31mTypeError\u001b[0m                                 Traceback (most recent call last)",
      "Input \u001b[0;32mIn [3]\u001b[0m, in \u001b[0;36m<cell line: 1>\u001b[0;34m()\u001b[0m\n\u001b[0;32m----> 1\u001b[0m \u001b[43mpf\u001b[49m\u001b[38;5;241;43m.\u001b[39;49m\u001b[43mshow_processing\u001b[49m\u001b[43m(\u001b[49m\u001b[43mobj\u001b[49m\u001b[43m,\u001b[49m\u001b[43m \u001b[49m\u001b[43msubdset\u001b[49m\u001b[38;5;241;43m=\u001b[39;49m\u001b[38;5;124;43m\"\u001b[39;49m\u001b[38;5;124;43mall\u001b[39;49m\u001b[38;5;124;43m\"\u001b[39;49m\u001b[43m)\u001b[49m\n",
      "File \u001b[0;32m~/src/MegaMedical/megamedical/src/proc_funcs.py:13\u001b[0m, in \u001b[0;36mshow_processing\u001b[0;34m(dataset_object, subdset, show_hists)\u001b[0m\n\u001b[1;32m     11\u001b[0m     dset_names \u001b[38;5;241m=\u001b[39m [subdset]\n\u001b[1;32m     12\u001b[0m \u001b[38;5;28;01mfor\u001b[39;00m sdset \u001b[38;5;129;01min\u001b[39;00m dset_names:\n\u001b[0;32m---> 13\u001b[0m     \u001b[43mdataset_object\u001b[49m\u001b[38;5;241;43m.\u001b[39;49m\u001b[43mproc_func\u001b[49m\u001b[43m(\u001b[49m\u001b[43msdset\u001b[49m\u001b[43m,\u001b[49m\n\u001b[1;32m     14\u001b[0m \u001b[43m                              \u001b[49m\u001b[43msave_slices\u001b[49m\u001b[38;5;241;43m=\u001b[39;49m\u001b[38;5;28;43;01mFalse\u001b[39;49;00m\u001b[43m,\u001b[49m\u001b[43m \u001b[49m\n\u001b[1;32m     15\u001b[0m \u001b[43m                              \u001b[49m\u001b[43mshow_hists\u001b[49m\u001b[38;5;241;43m=\u001b[39;49m\u001b[43mshow_hists\u001b[49m\u001b[43m,\u001b[49m\n\u001b[1;32m     16\u001b[0m \u001b[43m                              \u001b[49m\u001b[43mshow_imgs\u001b[49m\u001b[38;5;241;43m=\u001b[39;49m\u001b[38;5;28;43;01mTrue\u001b[39;49;00m\u001b[43m,\u001b[49m\n\u001b[1;32m     17\u001b[0m \u001b[43m                              \u001b[49m\u001b[43mredo_processed\u001b[49m\u001b[38;5;241;43m=\u001b[39;49m\u001b[38;5;28;43;01mTrue\u001b[39;49;00m\u001b[43m)\u001b[49m\n",
      "\u001b[0;31mTypeError\u001b[0m: proc_func() missing 1 required positional argument: 'processed_dir'"
     ]
    }
   ],
   "source": [
    "pf.show_processing(obj, subdset=\"all\")"
   ]
  },
  {
   "cell_type": "code",
   "execution_count": null,
   "id": "ecb15ee7",
   "metadata": {},
   "outputs": [],
   "source": [
    "# options include megamedical_v3.1, midslice_v3.1, v3.2-midslice\n",
    "pf.show_dataset(obj, subdset=\"all\", version=\"megamedical_v3.1\")"
   ]
  }
 ],
 "metadata": {
  "kernelspec": {
   "display_name": "UVS",
   "language": "python",
   "name": "uvs"
  },
  "language_info": {
   "codemirror_mode": {
    "name": "ipython",
    "version": 3
   },
   "file_extension": ".py",
   "mimetype": "text/x-python",
   "name": "python",
   "nbconvert_exporter": "python",
   "pygments_lexer": "ipython3",
   "version": "3.9.12"
  }
 },
 "nbformat": 4,
 "nbformat_minor": 5
}
