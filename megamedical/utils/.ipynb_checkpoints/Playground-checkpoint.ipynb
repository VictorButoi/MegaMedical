{
 "cells": [
  {
   "cell_type": "code",
   "execution_count": 4,
   "id": "c32e3bbd",
   "metadata": {},
   "outputs": [],
   "source": [
    "import os\n",
    "import shutil \n",
    "import megamedical\n",
    "import importlib\n",
    "import src.proc_funcs as pf\n",
    "import utils\n",
    "\n",
    "root = \"/home/vib9/src/MegaMedical/megamedical\"\n",
    "#registry = utils.registry.dataset_registry"
   ]
  },
  {
   "cell_type": "code",
   "execution_count": 13,
   "id": "bcde3f0a",
   "metadata": {},
   "outputs": [],
   "source": [
    "original_file = \"/home/vib9/src/MegaMedical/megamedical/ACDC/process_assets/__init__.py\"\n",
    "for dataset in os.listdir(root):\n",
    "    try:\n",
    "        new_file = original_file.replace(\"ACDC\", dataset)\n",
    "        shutil.copy(original_file, new_file)\n",
    "    except:\n",
    "        continue"
   ]
  },
  {
   "cell_type": "code",
   "execution_count": null,
   "id": "a3ded314",
   "metadata": {},
   "outputs": [],
   "source": [
    "#obj = getattr(importlib.import_module(\"megamedical.ACDC.process_assets\"), \"ACDC\")()"
   ]
  },
  {
   "cell_type": "code",
   "execution_count": null,
   "id": "5aabfaf0",
   "metadata": {},
   "outputs": [],
   "source": [
    "#pf.show_processing(obj, subdset=\"all\")"
   ]
  },
  {
   "cell_type": "code",
   "execution_count": null,
   "id": "ecb15ee7",
   "metadata": {},
   "outputs": [],
   "source": [
    "# options include megamedical_v3.1, midslice_v3.1, v3.2-midslice\n",
    "#pf.show_dataset(obj, subdset=\"all\", version=\"megamedical_v3.1\")"
   ]
  }
 ],
 "metadata": {
  "kernelspec": {
   "display_name": "UVS",
   "language": "python",
   "name": "uvs"
  },
  "language_info": {
   "codemirror_mode": {
    "name": "ipython",
    "version": 3
   },
   "file_extension": ".py",
   "mimetype": "text/x-python",
   "name": "python",
   "nbconvert_exporter": "python",
   "pygments_lexer": "ipython3",
   "version": "3.9.12"
  }
 },
 "nbformat": 4,
 "nbformat_minor": 5
}
